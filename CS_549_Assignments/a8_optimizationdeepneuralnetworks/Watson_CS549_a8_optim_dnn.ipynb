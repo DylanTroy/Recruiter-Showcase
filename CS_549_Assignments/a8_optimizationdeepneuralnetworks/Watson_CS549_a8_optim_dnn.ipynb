{
 "cells": [
  {
   "cell_type": "markdown",
   "metadata": {
    "collapsed": true,
    "jupyter": {
     "outputs_hidden": true
    },
    "pycharm": {
     "name": "#%% md\n"
    }
   },
   "source": [
    "# CS549 Machine Learning\n",
    "# Assignment 8: Optimization of Deep Neural Networks\n",
    "\n",
    "**Total points: 15**\n",
    "\n",
    "In this assignment, you will implement a multiple layer feed-forward neural network for a multi-class classification task."
   ]
  },
  {
   "cell_type": "code",
   "execution_count": 1,
   "metadata": {},
   "outputs": [
    {
     "name": "stdout",
     "output_type": "stream",
     "text": [
      "Collecting torch\n",
      "  Obtaining dependency information for torch from https://files.pythonhosted.org/packages/50/9e/acf04ff375b0b49a45511c55d188bcea5c942da2aaf293096676110086d1/torch-2.7.1-cp311-cp311-win_amd64.whl.metadata\n",
      "  Using cached torch-2.7.1-cp311-cp311-win_amd64.whl.metadata (28 kB)\n",
      "Requirement already satisfied: filelock in c:\\users\\dylan\\anaconda3\\lib\\site-packages (from torch) (3.9.0)\n",
      "Requirement already satisfied: typing-extensions>=4.10.0 in c:\\users\\dylan\\anaconda3\\lib\\site-packages (from torch) (4.14.0)\n",
      "Requirement already satisfied: sympy>=1.13.3 in c:\\users\\dylan\\anaconda3\\lib\\site-packages (from torch) (1.14.0)\n",
      "Requirement already satisfied: networkx in c:\\users\\dylan\\anaconda3\\lib\\site-packages (from torch) (3.1)\n",
      "Requirement already satisfied: jinja2 in c:\\users\\dylan\\anaconda3\\lib\\site-packages (from torch) (3.1.2)\n",
      "Requirement already satisfied: fsspec in c:\\users\\dylan\\anaconda3\\lib\\site-packages (from torch) (2025.3.2)\n",
      "Requirement already satisfied: mpmath<1.4,>=1.1.0 in c:\\users\\dylan\\anaconda3\\lib\\site-packages (from sympy>=1.13.3->torch) (1.3.0)\n",
      "Requirement already satisfied: MarkupSafe>=2.0 in c:\\users\\dylan\\anaconda3\\lib\\site-packages (from jinja2->torch) (2.1.1)\n",
      "Using cached torch-2.7.1-cp311-cp311-win_amd64.whl (216.1 MB)\n",
      "Installing collected packages: torch\n",
      "Successfully installed torch-2.7.1\n",
      "Collecting torchvision\n",
      "  Obtaining dependency information for torchvision from https://files.pythonhosted.org/packages/e5/73/1b009b42fe4a7774ba19c23c26bb0f020d68525c417a348b166f1c56044f/torchvision-0.22.1-cp311-cp311-win_amd64.whl.metadata\n",
      "  Using cached torchvision-0.22.1-cp311-cp311-win_amd64.whl.metadata (6.1 kB)\n",
      "Requirement already satisfied: numpy in c:\\users\\dylan\\anaconda3\\lib\\site-packages (from torchvision) (1.24.3)\n",
      "Requirement already satisfied: torch==2.7.1 in c:\\users\\dylan\\anaconda3\\lib\\site-packages (from torchvision) (2.7.1)\n",
      "Requirement already satisfied: pillow!=8.3.*,>=5.3.0 in c:\\users\\dylan\\anaconda3\\lib\\site-packages (from torchvision) (10.0.1)\n",
      "Requirement already satisfied: filelock in c:\\users\\dylan\\anaconda3\\lib\\site-packages (from torch==2.7.1->torchvision) (3.9.0)\n",
      "Requirement already satisfied: typing-extensions>=4.10.0 in c:\\users\\dylan\\anaconda3\\lib\\site-packages (from torch==2.7.1->torchvision) (4.14.0)\n",
      "Requirement already satisfied: sympy>=1.13.3 in c:\\users\\dylan\\anaconda3\\lib\\site-packages (from torch==2.7.1->torchvision) (1.14.0)\n",
      "Requirement already satisfied: networkx in c:\\users\\dylan\\anaconda3\\lib\\site-packages (from torch==2.7.1->torchvision) (3.1)\n",
      "Requirement already satisfied: jinja2 in c:\\users\\dylan\\anaconda3\\lib\\site-packages (from torch==2.7.1->torchvision) (3.1.2)\n",
      "Requirement already satisfied: fsspec in c:\\users\\dylan\\anaconda3\\lib\\site-packages (from torch==2.7.1->torchvision) (2025.3.2)\n",
      "Requirement already satisfied: mpmath<1.4,>=1.1.0 in c:\\users\\dylan\\anaconda3\\lib\\site-packages (from sympy>=1.13.3->torch==2.7.1->torchvision) (1.3.0)\n",
      "Requirement already satisfied: MarkupSafe>=2.0 in c:\\users\\dylan\\anaconda3\\lib\\site-packages (from jinja2->torch==2.7.1->torchvision) (2.1.1)\n",
      "Using cached torchvision-0.22.1-cp311-cp311-win_amd64.whl (1.7 MB)\n",
      "Installing collected packages: torchvision\n",
      "Successfully installed torchvision-0.22.1\n"
     ]
    }
   ],
   "source": [
    "!pip install torch\n",
    "!pip install torchvision"
   ]
  },
  {
   "cell_type": "code",
   "execution_count": 2,
   "metadata": {
    "pycharm": {
     "name": "#%%\n"
    }
   },
   "outputs": [],
   "source": [
    "import torch\n",
    "torch.manual_seed(0)\n",
    "torch.use_deterministic_algorithms(True)\n",
    "\n",
    "from torch import nn\n",
    "from torch.utils.data import DataLoader\n",
    "from torchvision import datasets\n",
    "from torchvision.transforms import ToTensor"
   ]
  },
  {
   "cell_type": "markdown",
   "metadata": {},
   "source": [
    "## Task 1: Build a deep neural network model\n",
    "**Points: 3**\n",
    "\n",
    "Implement the `NeuralNetModel1` class. The model takes a $28\\times 28$ grey-scale image as input, and pass it through a deep neural network.\n",
    "\n",
    "The network has 2 hidden layers and 1 output layers, whose sizes are: 512 -> 512 -> 10. That is, the number of output classes is 10. The activation function for each hidden layer is `ReLU`.\n",
    "\n",
    "The input image is first passed through a `nn.Flatten()` layer so that a 2D tensor becomes 1D."
   ]
  },
  {
   "cell_type": "code",
   "execution_count": 3,
   "metadata": {
    "pycharm": {
     "name": "#%%\n"
    }
   },
   "outputs": [],
   "source": [
    "class NeuralNetModel1(nn.Module):\n",
    "    def __init__(self):\n",
    "        super(NeuralNetModel1, self).__init__()\n",
    "        ### START YOUR CODE ###\n",
    "        self.flatten = nn.Flatten() # Use nn.Flatten()\n",
    "        self.linear_relu_stack = nn.Sequential(\n",
    "            nn.Linear(28*28, 512), # Input size is 28*28\n",
    "            nn.ReLU(), # ReLU\n",
    "            nn.Linear(512, 512), # 512 -> 512\n",
    "            nn.ReLU(), # ReLU\n",
    "            nn.Linear(512, 10), # 512 -> 10\n",
    "        )\n",
    "        ### END YOUR CODE ###\n",
    "\n",
    "    def forward(self, x):\n",
    "        ### START YOUR CODE ###\n",
    "        x = self.flatten(x) # Call self.flatten()\n",
    "        logits = self.linear_relu_stack(x) # Call self.linear_relu_stack()\n",
    "        ### END YOUR CODE ###\n",
    "\n",
    "        return logits"
   ]
  },
  {
   "cell_type": "code",
   "execution_count": 4,
   "metadata": {
    "pycharm": {
     "name": "#%%\n"
    }
   },
   "outputs": [
    {
     "name": "stdout",
     "output_type": "stream",
     "text": [
      "input size: torch.Size([5, 28, 28])\n",
      "output size: torch.Size([5, 10])\n"
     ]
    }
   ],
   "source": [
    "# Do not change the test code here\n",
    "sample_input = torch.randn(5, 28, 28)\n",
    "print('input size:', sample_input.size())\n",
    "\n",
    "model1 = NeuralNetModel1()\n",
    "with torch.no_grad():\n",
    "    output = model1(sample_input)\n",
    "print('output size:', output.size())"
   ]
  },
  {
   "cell_type": "markdown",
   "metadata": {
    "pycharm": {
     "name": "#%% md\n"
    }
   },
   "source": [
    "**Expected output**:\n",
    "\n",
    "input size: torch.Size([5, 28, 28])\\\n",
    "output size: torch.Size([5, 10])\n",
    "\n",
    "---\n",
    "\n",
    "## Task 2: Use dataloader\n",
    "**Points: 1**\n",
    "\n",
    "Download the FashionMNIST dataset provided by PyTorch to the folder \"data\", which takes some time for the first time execution.\n",
    "Use the `DataLoader` module to wrap the loaded training and test data. Specify the `batch_size` correctly for both training and test dataloader.\n",
    "\n",
    "See <https://pytorch.org/docs/stable/data.html#torch.utils.data.DataLoader> for more information."
   ]
  },
  {
   "cell_type": "code",
   "execution_count": 5,
   "metadata": {
    "pycharm": {
     "name": "#%%\n"
    }
   },
   "outputs": [
    {
     "name": "stderr",
     "output_type": "stream",
     "text": [
      "100%|██████████| 26.4M/26.4M [00:04<00:00, 6.59MB/s]\n",
      "100%|██████████| 29.5k/29.5k [00:00<00:00, 168kB/s]\n",
      "100%|██████████| 4.42M/4.42M [00:01<00:00, 2.76MB/s]\n",
      "100%|██████████| 5.15k/5.15k [00:00<?, ?B/s]\n"
     ]
    }
   ],
   "source": [
    "training_data = datasets.FashionMNIST(\n",
    "    root=\"data\",\n",
    "    train=True, # True\n",
    "    download=True,\n",
    "    transform=ToTensor()\n",
    ")\n",
    "\n",
    "test_data = datasets.FashionMNIST(\n",
    "    root=\"data\",\n",
    "    train=False, # False\n",
    "    download=True,\n",
    "    transform=ToTensor()\n",
    ")\n",
    "\n",
    "batch_size = 64\n",
    "\n",
    "### START YOUR CODE ###\n",
    "train_loader = DataLoader(training_data, batch_size=batch_size) # Specify data source and batch size correctly\n",
    "test_loader = DataLoader(test_data, batch_size=batch_size)\n",
    "### END YOUR CODE ###"
   ]
  },
  {
   "cell_type": "code",
   "execution_count": 6,
   "metadata": {
    "pycharm": {
     "name": "#%%\n"
    }
   },
   "outputs": [
    {
     "name": "stdout",
     "output_type": "stream",
     "text": [
      "Training data size: 60000\n",
      "Testing data size: 10000\n",
      "X size: torch.Size([64, 1, 28, 28])\n",
      "y size: torch.Size([64])\n"
     ]
    }
   ],
   "source": [
    "# Do not change the test code here\n",
    "print('Training data size:', len(training_data))\n",
    "print('Testing data size:', len(test_data))\n",
    "\n",
    "count = 0\n",
    "for batch in train_loader:\n",
    "    X, y = batch\n",
    "    print('X size:', X.size())\n",
    "    print('y size:', y.size())\n",
    "    count += 1\n",
    "    if count > 0:\n",
    "        break"
   ]
  },
  {
   "cell_type": "markdown",
   "metadata": {},
   "source": [
    "**Expected output**:\n",
    "\n",
    "Training data size: 60000\\\n",
    "Testing data size: 10000\\\n",
    "X size: torch.Size([64, 1, 28, 28])\\\n",
    "y size: torch.Size([64])"
   ]
  },
  {
   "cell_type": "markdown",
   "metadata": {},
   "source": [
    "## Task 3: Define loss and optimizer\n",
    "**Points: 1**\n",
    "\n",
    "Use `nn.CrossEntropyLoss()` as the loss function, and use `torch.optim.SGD()` as the optimizer. Specify the arguments for `SGD()`, including the learning rate correctly.\n",
    "\n",
    "See <https://pytorch.org/docs/stable/generated/torch.nn.CrossEntropyLoss.html> and <https://pytorch.org/docs/stable/optim.html> for more information."
   ]
  },
  {
   "cell_type": "code",
   "execution_count": 7,
   "metadata": {
    "pycharm": {
     "name": "#%%\n"
    }
   },
   "outputs": [],
   "source": [
    "learning_rate = 1e-3\n",
    "\n",
    "### START YOUR CODE ###\n",
    "loss_fn = nn.CrossEntropyLoss()\n",
    "optimizer_sgd = torch.optim.SGD(model1.parameters(), lr=learning_rate)\n",
    "### END YOUR CODE ###"
   ]
  },
  {
   "cell_type": "code",
   "execution_count": 8,
   "metadata": {
    "pycharm": {
     "name": "#%%\n"
    }
   },
   "outputs": [
    {
     "name": "stdout",
     "output_type": "stream",
     "text": [
      "CrossEntropyLoss()\n",
      "<class 'torch.optim.sgd.SGD'>\n"
     ]
    }
   ],
   "source": [
    "# Do not change the test code here\n",
    "print(loss_fn)\n",
    "print(type(optimizer_sgd))"
   ]
  },
  {
   "cell_type": "markdown",
   "metadata": {
    "pycharm": {
     "name": "#%% md\n"
    }
   },
   "source": [
    "**Expected output**:\n",
    "\n",
    "CrossEntropyLoss()\n",
    "<class 'torch.optim.sgd.SGD'>\n",
    "\n",
    "---\n",
    "\n",
    "## Task 4: Implement train and test functions\n",
    "**Points: 6**\n",
    "\n",
    "Implement the code for training the model in `train()`. Implement the code for testing the model in `test()`. For the backpropagation step, you need to first zero out all gradients by calling `optimizer.zero_grad()` before carrying out `backward()` and `step()` to update parameters.\n",
    "\n",
    "In `test()`, you need to calculate the number of correct prediction in the current batch, and add it to the `correct` variable.\n",
    "Finally, you need to divide `correct` by the total number of test examples to obtain the test accuracy."
   ]
  },
  {
   "cell_type": "code",
   "execution_count": 9,
   "metadata": {
    "pycharm": {
     "name": "#%%\n"
    }
   },
   "outputs": [],
   "source": [
    "def train_loop(dataloader, model, loss_fn, optimizer, verbose=True):\n",
    "    for i, (X, y) in enumerate(dataloader):\n",
    "        # Compute prediction and loss\n",
    "        ### START YOUR CODE ###\n",
    "        pred = model(X) # Get the prediction output from model\n",
    "        loss = loss_fn(pred, y) # compute loss by calling loss_fn()\n",
    "        ### END YOUR CODE ###\n",
    "\n",
    "        # Backpropagation\n",
    "        ### START YOUR CODE ###\n",
    "        optimizer.zero_grad() # zero_grad()\n",
    "        loss.backward() # backward()\n",
    "        optimizer.step() # step()\n",
    "        ### END YOUR CODE ###\n",
    "\n",
    "        if verbose and i % 100 == 0:\n",
    "            loss = loss.item()\n",
    "            current_step = i * len(X)\n",
    "            print(f\"loss: {loss:>7f}  [{current_step:>5d}/{len(dataloader.dataset):>5d}]\")"
   ]
  },
  {
   "cell_type": "code",
   "execution_count": 10,
   "metadata": {
    "pycharm": {
     "name": "#%%\n"
    }
   },
   "outputs": [],
   "source": [
    "@torch.no_grad()\n",
    "def test_loop(dataloader, model, loss_fn):\n",
    "    test_loss, correct = 0, 0\n",
    "\n",
    "    for X, y in dataloader:\n",
    "        ### START YOUR CODE ###\n",
    "        pred = model(X) # Similar to how it is computed in train()\n",
    "        loss = loss_fn(pred, y)\n",
    "        test_loss += loss.item()\n",
    "        correct += (pred.argmax(dim=1) == y).sum().item() # Add the number of correct prediction in the current batch to `correct`\n",
    "        ### END YOUR CODE ###\n",
    "\n",
    "    test_loss /= len(dataloader)\n",
    "    ### START YOUR CODE ###\n",
    "    test_acc = correct / len(dataloader.dataset) # Use `correct` to compute accuracy\n",
    "    ### END YOUR CODE ###\n",
    "\n",
    "    print(f\"Test Error: \\n Accuracy: {(100*test_acc):>0.1f}%, Avg loss: {test_loss:>8f} \\n\")"
   ]
  },
  {
   "cell_type": "markdown",
   "metadata": {
    "pycharm": {
     "name": "#%% md\n"
    }
   },
   "source": [
    "Next, execute the following cell to start the training and testing loop. Make sure that the cell containing the loss function and optimizers has already been executed."
   ]
  },
  {
   "cell_type": "code",
   "execution_count": 11,
   "metadata": {
    "pycharm": {
     "name": "#%%\n"
    }
   },
   "outputs": [
    {
     "name": "stdout",
     "output_type": "stream",
     "text": [
      "Epoch 1\n",
      "-------------------------------\n",
      "loss: 2.296701  [    0/60000]\n",
      "loss: 2.284246  [ 6400/60000]\n",
      "loss: 2.266165  [12800/60000]\n",
      "loss: 2.270359  [19200/60000]\n",
      "loss: 2.252516  [25600/60000]\n",
      "loss: 2.231632  [32000/60000]\n",
      "loss: 2.239763  [38400/60000]\n",
      "loss: 2.206202  [44800/60000]\n",
      "loss: 2.202750  [51200/60000]\n",
      "loss: 2.174662  [57600/60000]\n",
      "Test Error: \n",
      " Accuracy: 40.0%, Avg loss: 2.171465 \n",
      "\n",
      "Epoch 2\n",
      "-------------------------------\n",
      "loss: 2.178695  [    0/60000]\n",
      "loss: 2.166121  [ 6400/60000]\n",
      "loss: 2.112746  [12800/60000]\n",
      "loss: 2.130644  [19200/60000]\n",
      "loss: 2.084809  [25600/60000]\n",
      "loss: 2.037293  [32000/60000]\n",
      "loss: 2.054000  [38400/60000]\n",
      "loss: 1.979529  [44800/60000]\n",
      "loss: 1.982393  [51200/60000]\n",
      "loss: 1.910792  [57600/60000]\n",
      "Test Error: \n",
      " Accuracy: 58.6%, Avg loss: 1.913630 \n",
      "\n",
      "Epoch 3\n",
      "-------------------------------\n",
      "loss: 1.944621  [    0/60000]\n",
      "loss: 1.911706  [ 6400/60000]\n",
      "loss: 1.797971  [12800/60000]\n",
      "loss: 1.834720  [19200/60000]\n",
      "loss: 1.737230  [25600/60000]\n",
      "loss: 1.692371  [32000/60000]\n",
      "loss: 1.701043  [38400/60000]\n",
      "loss: 1.604594  [44800/60000]\n",
      "loss: 1.627076  [51200/60000]\n",
      "loss: 1.516713  [57600/60000]\n",
      "Test Error: \n",
      " Accuracy: 61.7%, Avg loss: 1.542017 \n",
      "\n",
      "Epoch 4\n",
      "-------------------------------\n",
      "loss: 1.613817  [    0/60000]\n",
      "loss: 1.572234  [ 6400/60000]\n",
      "loss: 1.423318  [12800/60000]\n",
      "loss: 1.487491  [19200/60000]\n",
      "loss: 1.381457  [25600/60000]\n",
      "loss: 1.379045  [32000/60000]\n",
      "loss: 1.382816  [38400/60000]\n",
      "loss: 1.307114  [44800/60000]\n",
      "loss: 1.343912  [51200/60000]\n",
      "loss: 1.239244  [57600/60000]\n",
      "Test Error: \n",
      " Accuracy: 63.2%, Avg loss: 1.270235 \n",
      "\n",
      "Epoch 5\n",
      "-------------------------------\n",
      "loss: 1.355621  [    0/60000]\n",
      "loss: 1.330859  [ 6400/60000]\n",
      "loss: 1.165464  [12800/60000]\n",
      "loss: 1.263088  [19200/60000]\n",
      "loss: 1.144852  [25600/60000]\n",
      "loss: 1.173151  [32000/60000]\n",
      "loss: 1.188251  [38400/60000]\n",
      "loss: 1.121183  [44800/60000]\n",
      "loss: 1.165405  [51200/60000]\n",
      "loss: 1.079876  [57600/60000]\n",
      "Test Error: \n",
      " Accuracy: 64.6%, Avg loss: 1.102931 \n",
      "\n",
      "Epoch 6\n",
      "-------------------------------\n",
      "loss: 1.182021  [    0/60000]\n",
      "loss: 1.179148  [ 6400/60000]\n",
      "loss: 0.998185  [12800/60000]\n",
      "loss: 1.125662  [19200/60000]\n",
      "loss: 1.001185  [25600/60000]\n",
      "loss: 1.036261  [32000/60000]\n",
      "loss: 1.070052  [38400/60000]\n",
      "loss: 1.002468  [44800/60000]\n",
      "loss: 1.048715  [51200/60000]\n",
      "loss: 0.981324  [57600/60000]\n",
      "Test Error: \n",
      " Accuracy: 65.8%, Avg loss: 0.995855 \n",
      "\n",
      "Epoch 7\n",
      "-------------------------------\n",
      "loss: 1.061846  [    0/60000]\n",
      "loss: 1.080972  [ 6400/60000]\n",
      "loss: 0.883554  [12800/60000]\n",
      "loss: 1.035263  [19200/60000]\n",
      "loss: 0.912068  [25600/60000]\n",
      "loss: 0.940018  [32000/60000]\n",
      "loss: 0.993523  [38400/60000]\n",
      "loss: 0.923601  [44800/60000]\n",
      "loss: 0.967153  [51200/60000]\n",
      "loss: 0.914718  [57600/60000]\n",
      "Test Error: \n",
      " Accuracy: 67.2%, Avg loss: 0.922173 \n",
      "\n",
      "Epoch 8\n",
      "-------------------------------\n",
      "loss: 0.972429  [    0/60000]\n",
      "loss: 1.012112  [ 6400/60000]\n",
      "loss: 0.799893  [12800/60000]\n",
      "loss: 0.970485  [19200/60000]\n",
      "loss: 0.853135  [25600/60000]\n",
      "loss: 0.868751  [32000/60000]\n",
      "loss: 0.939850  [38400/60000]\n",
      "loss: 0.869769  [44800/60000]\n",
      "loss: 0.907701  [51200/60000]\n",
      "loss: 0.866194  [57600/60000]\n",
      "Test Error: \n",
      " Accuracy: 68.1%, Avg loss: 0.868536 \n",
      "\n",
      "Epoch 9\n",
      "-------------------------------\n",
      "loss: 0.902866  [    0/60000]\n",
      "loss: 0.960340  [ 6400/60000]\n",
      "loss: 0.736596  [12800/60000]\n",
      "loss: 0.921305  [19200/60000]\n",
      "loss: 0.811516  [25600/60000]\n",
      "loss: 0.814861  [32000/60000]\n",
      "loss: 0.899157  [38400/60000]\n",
      "loss: 0.831843  [44800/60000]\n",
      "loss: 0.863129  [51200/60000]\n",
      "loss: 0.828610  [57600/60000]\n",
      "Test Error: \n",
      " Accuracy: 69.2%, Avg loss: 0.827641 \n",
      "\n",
      "Epoch 10\n",
      "-------------------------------\n",
      "loss: 0.847126  [    0/60000]\n",
      "loss: 0.918838  [ 6400/60000]\n",
      "loss: 0.687079  [12800/60000]\n",
      "loss: 0.882683  [19200/60000]\n",
      "loss: 0.780198  [25600/60000]\n",
      "loss: 0.773584  [32000/60000]\n",
      "loss: 0.866391  [38400/60000]\n",
      "loss: 0.804118  [44800/60000]\n",
      "loss: 0.828847  [51200/60000]\n",
      "loss: 0.798183  [57600/60000]\n",
      "Test Error: \n",
      " Accuracy: 70.4%, Avg loss: 0.795202 \n",
      "\n",
      "Done!\n"
     ]
    }
   ],
   "source": [
    "model1 = NeuralNetModel1() # Reset the model\n",
    "### START YOUR CODE ###\n",
    "optimizer_sgd = torch.optim.SGD(model1.parameters(), lr=learning_rate) # Because the model1 is reset, the optimizer also needs redefined.\n",
    "### END YOUR CODE ###\n",
    "\n",
    "epochs = 10\n",
    "for t in range(epochs):\n",
    "    print(f\"Epoch {t+1}\\n-------------------------------\")\n",
    "    ### START YOUR CODE ###\n",
    "    train_loop(train_loader, model1, loss_fn, optimizer_sgd, verbose=True) # Use verbose=False, if you want to see less information\n",
    "    test_loop(test_loader, model1, loss_fn)\n",
    "    ### END YOUR CODE ###\n",
    "\n",
    "print(\"Done!\")"
   ]
  },
  {
   "cell_type": "markdown",
   "metadata": {
    "pycharm": {
     "name": "#%% md\n"
    }
   },
   "source": [
    "**Expected output**\n",
    "\n",
    "The test accuracy from the last epoch should be above 70%.\n",
    "\n",
    "---\n",
    "\n",
    "Next, train an ADAM optimizer. Note that the model needs be reset."
   ]
  },
  {
   "cell_type": "code",
   "execution_count": 12,
   "metadata": {
    "pycharm": {
     "name": "#%%\n"
    }
   },
   "outputs": [
    {
     "name": "stdout",
     "output_type": "stream",
     "text": [
      "Epoch 1\n",
      "-------------------------------\n",
      "loss: 2.299667  [    0/60000]\n",
      "loss: 0.565681  [ 6400/60000]\n",
      "loss: 0.392925  [12800/60000]\n",
      "loss: 0.491291  [19200/60000]\n",
      "loss: 0.450433  [25600/60000]\n",
      "loss: 0.447974  [32000/60000]\n",
      "loss: 0.378937  [38400/60000]\n",
      "loss: 0.541005  [44800/60000]\n",
      "loss: 0.462291  [51200/60000]\n",
      "loss: 0.490549  [57600/60000]\n",
      "Test Error: \n",
      " Accuracy: 85.0%, Avg loss: 0.414252 \n",
      "\n",
      "Epoch 2\n",
      "-------------------------------\n",
      "loss: 0.258051  [    0/60000]\n",
      "loss: 0.344899  [ 6400/60000]\n",
      "loss: 0.303737  [12800/60000]\n",
      "loss: 0.394993  [19200/60000]\n",
      "loss: 0.418085  [25600/60000]\n",
      "loss: 0.374468  [32000/60000]\n",
      "loss: 0.320626  [38400/60000]\n",
      "loss: 0.510361  [44800/60000]\n",
      "loss: 0.378971  [51200/60000]\n",
      "loss: 0.416497  [57600/60000]\n",
      "Test Error: \n",
      " Accuracy: 85.4%, Avg loss: 0.394885 \n",
      "\n",
      "Epoch 3\n",
      "-------------------------------\n",
      "loss: 0.222765  [    0/60000]\n",
      "loss: 0.343310  [ 6400/60000]\n",
      "loss: 0.238116  [12800/60000]\n",
      "loss: 0.317114  [19200/60000]\n",
      "loss: 0.369154  [25600/60000]\n",
      "loss: 0.345552  [32000/60000]\n",
      "loss: 0.274256  [38400/60000]\n",
      "loss: 0.473252  [44800/60000]\n",
      "loss: 0.340392  [51200/60000]\n",
      "loss: 0.373784  [57600/60000]\n",
      "Test Error: \n",
      " Accuracy: 85.8%, Avg loss: 0.386711 \n",
      "\n",
      "Epoch 4\n",
      "-------------------------------\n",
      "loss: 0.224031  [    0/60000]\n",
      "loss: 0.274821  [ 6400/60000]\n",
      "loss: 0.222782  [12800/60000]\n",
      "loss: 0.291758  [19200/60000]\n",
      "loss: 0.367159  [25600/60000]\n",
      "loss: 0.342182  [32000/60000]\n",
      "loss: 0.259603  [38400/60000]\n",
      "loss: 0.427385  [44800/60000]\n",
      "loss: 0.314423  [51200/60000]\n",
      "loss: 0.323798  [57600/60000]\n",
      "Test Error: \n",
      " Accuracy: 86.7%, Avg loss: 0.360570 \n",
      "\n",
      "Epoch 5\n",
      "-------------------------------\n",
      "loss: 0.212728  [    0/60000]\n",
      "loss: 0.272341  [ 6400/60000]\n",
      "loss: 0.204653  [12800/60000]\n",
      "loss: 0.250042  [19200/60000]\n",
      "loss: 0.310764  [25600/60000]\n",
      "loss: 0.317442  [32000/60000]\n",
      "loss: 0.244354  [38400/60000]\n",
      "loss: 0.385151  [44800/60000]\n",
      "loss: 0.315521  [51200/60000]\n",
      "loss: 0.333302  [57600/60000]\n",
      "Test Error: \n",
      " Accuracy: 87.4%, Avg loss: 0.347517 \n",
      "\n",
      "Epoch 6\n",
      "-------------------------------\n",
      "loss: 0.193313  [    0/60000]\n",
      "loss: 0.223892  [ 6400/60000]\n",
      "loss: 0.179569  [12800/60000]\n",
      "loss: 0.238817  [19200/60000]\n",
      "loss: 0.370357  [25600/60000]\n",
      "loss: 0.296235  [32000/60000]\n",
      "loss: 0.219981  [38400/60000]\n",
      "loss: 0.386622  [44800/60000]\n",
      "loss: 0.278486  [51200/60000]\n",
      "loss: 0.320243  [57600/60000]\n",
      "Test Error: \n",
      " Accuracy: 87.7%, Avg loss: 0.349943 \n",
      "\n",
      "Epoch 7\n",
      "-------------------------------\n",
      "loss: 0.184402  [    0/60000]\n",
      "loss: 0.241021  [ 6400/60000]\n",
      "loss: 0.201889  [12800/60000]\n",
      "loss: 0.243371  [19200/60000]\n",
      "loss: 0.358304  [25600/60000]\n",
      "loss: 0.292435  [32000/60000]\n",
      "loss: 0.189051  [38400/60000]\n",
      "loss: 0.308794  [44800/60000]\n",
      "loss: 0.274101  [51200/60000]\n",
      "loss: 0.322451  [57600/60000]\n",
      "Test Error: \n",
      " Accuracy: 88.1%, Avg loss: 0.338694 \n",
      "\n",
      "Epoch 8\n",
      "-------------------------------\n",
      "loss: 0.134683  [    0/60000]\n",
      "loss: 0.183334  [ 6400/60000]\n",
      "loss: 0.188141  [12800/60000]\n",
      "loss: 0.232367  [19200/60000]\n",
      "loss: 0.370092  [25600/60000]\n",
      "loss: 0.300104  [32000/60000]\n",
      "loss: 0.213329  [38400/60000]\n",
      "loss: 0.295884  [44800/60000]\n",
      "loss: 0.289483  [51200/60000]\n",
      "loss: 0.311735  [57600/60000]\n",
      "Test Error: \n",
      " Accuracy: 88.3%, Avg loss: 0.348091 \n",
      "\n",
      "Epoch 9\n",
      "-------------------------------\n",
      "loss: 0.153291  [    0/60000]\n",
      "loss: 0.174170  [ 6400/60000]\n",
      "loss: 0.176809  [12800/60000]\n",
      "loss: 0.187796  [19200/60000]\n",
      "loss: 0.318322  [25600/60000]\n",
      "loss: 0.294197  [32000/60000]\n",
      "loss: 0.180015  [38400/60000]\n",
      "loss: 0.286828  [44800/60000]\n",
      "loss: 0.288053  [51200/60000]\n",
      "loss: 0.237868  [57600/60000]\n",
      "Test Error: \n",
      " Accuracy: 88.3%, Avg loss: 0.351521 \n",
      "\n",
      "Epoch 10\n",
      "-------------------------------\n",
      "loss: 0.147797  [    0/60000]\n",
      "loss: 0.156305  [ 6400/60000]\n",
      "loss: 0.181401  [12800/60000]\n",
      "loss: 0.181459  [19200/60000]\n",
      "loss: 0.345450  [25600/60000]\n",
      "loss: 0.273597  [32000/60000]\n",
      "loss: 0.149862  [38400/60000]\n",
      "loss: 0.254476  [44800/60000]\n",
      "loss: 0.202502  [51200/60000]\n",
      "loss: 0.217118  [57600/60000]\n",
      "Test Error: \n",
      " Accuracy: 88.2%, Avg loss: 0.360251 \n",
      "\n",
      "Done!\n"
     ]
    }
   ],
   "source": [
    "model1 = NeuralNetModel1() # Reset the model\n",
    "\n",
    "### START YOUR CODE ###\n",
    "optimizer_adam = torch.optim.Adam(model1.parameters(), lr=learning_rate)\n",
    "### END YOUR CODE ###\n",
    "\n",
    "epochs = 10\n",
    "for t in range(epochs):\n",
    "    print(f\"Epoch {t+1}\\n-------------------------------\")\n",
    "    ### START YOUR CODE ###\n",
    "    train_loop(train_loader, model1, loss_fn, optimizer_adam, verbose=True) # Use verbose=False, if you want to see less information\n",
    "    test_loop(test_loader, model1, loss_fn)\n",
    "    ### END YOUR CODE ###\n",
    "\n",
    "print(\"Done!\")"
   ]
  },
  {
   "cell_type": "markdown",
   "metadata": {},
   "source": [
    "**Expected output**:\n",
    "\n",
    "You can find that the training converges much faster using ADAM.\n",
    "\n",
    "---\n",
    "\n",
    "## Task 5: Add batchnorm and dropout\n",
    "**Points: 4**\n",
    "\n",
    "Use `torch.nn.BatchNorm1d()` and `nn.Dropout()` after the ReLU activation of each hidden layer. `Batchnorm1d()` takes the size of previous activation as input. `Dropout()` takes the probability of dropout as input.\n",
    "\n",
    "For more information, see <https://pytorch.org/docs/stable/generated/torch.nn.BatchNorm1d.html> and <https://pytorch.org/docs/stable/generated/torch.nn.Dropout.html>."
   ]
  },
  {
   "cell_type": "code",
   "execution_count": 13,
   "metadata": {
    "pycharm": {
     "name": "#%%\n"
    }
   },
   "outputs": [],
   "source": [
    "class NeuralNetModel2(nn.Module):\n",
    "    def __init__(self, dropout = 0.1): # Note the additional dropout parameter here\n",
    "        \"\"\"\n",
    "        :param dropout: float, the probability of dropout\n",
    "        \"\"\"\n",
    "        super(NeuralNetModel2, self).__init__()\n",
    "        ### START YOUR CODE ###\n",
    "        self.flatten = nn.Flatten()\n",
    "        self.linear_relu_stack = nn.Sequential(\n",
    "            nn.Linear(28*28, 512),\n",
    "            nn.ReLU(), # ReLU\n",
    "            nn.BatchNorm1d(512), # Batchnorm\n",
    "            nn.Dropout(p=dropout), # Dropout, use the `dropout` parameter\n",
    "\n",
    "            nn.Linear(512, 512),\n",
    "            nn.ReLU(), # ReLU\n",
    "            nn.BatchNorm1d(512), # Batchnorm\n",
    "            nn.Dropout(p=dropout), # Dropout, use the `dropout` parameter\n",
    "\n",
    "            nn.Linear(512, 10),\n",
    "        )\n",
    "        ### END YOUR CODE ###\n",
    "\n",
    "    def forward(self, x):\n",
    "        ### START YOUR CODE ###\n",
    "        x = self.flatten(x)\n",
    "        logits = self.linear_relu_stack(x)\n",
    "        ### END YOUR CODE ###\n",
    "\n",
    "        return logits"
   ]
  },
  {
   "cell_type": "markdown",
   "metadata": {},
   "source": [
    "In the following cell, test with different `dropout` rates, and observe how that affects the test accuracy."
   ]
  },
  {
   "cell_type": "code",
   "execution_count": 14,
   "metadata": {
    "pycharm": {
     "name": "#%%\n"
    }
   },
   "outputs": [
    {
     "name": "stdout",
     "output_type": "stream",
     "text": [
      "Epoch 1\n",
      "-------------------------------\n",
      "loss: 2.612558  [    0/60000]\n",
      "loss: 0.503965  [ 6400/60000]\n",
      "loss: 0.426678  [12800/60000]\n",
      "loss: 0.491898  [19200/60000]\n",
      "loss: 0.582632  [25600/60000]\n",
      "loss: 0.432575  [32000/60000]\n",
      "loss: 0.317510  [38400/60000]\n",
      "loss: 0.605072  [44800/60000]\n",
      "loss: 0.488901  [51200/60000]\n",
      "loss: 0.490692  [57600/60000]\n",
      "Test Error: \n",
      " Accuracy: 83.6%, Avg loss: 0.448692 \n",
      "\n",
      "Epoch 2\n",
      "-------------------------------\n",
      "loss: 0.353831  [    0/60000]\n",
      "loss: 0.382516  [ 6400/60000]\n",
      "loss: 0.316304  [12800/60000]\n",
      "loss: 0.397499  [19200/60000]\n",
      "loss: 0.414132  [25600/60000]\n",
      "loss: 0.354182  [32000/60000]\n",
      "loss: 0.312440  [38400/60000]\n",
      "loss: 0.538872  [44800/60000]\n",
      "loss: 0.420980  [51200/60000]\n",
      "loss: 0.478935  [57600/60000]\n",
      "Test Error: \n",
      " Accuracy: 84.5%, Avg loss: 0.425928 \n",
      "\n",
      "Epoch 3\n",
      "-------------------------------\n",
      "loss: 0.350996  [    0/60000]\n",
      "loss: 0.356971  [ 6400/60000]\n",
      "loss: 0.323866  [12800/60000]\n",
      "loss: 0.348539  [19200/60000]\n",
      "loss: 0.455284  [25600/60000]\n",
      "loss: 0.360837  [32000/60000]\n",
      "loss: 0.257009  [38400/60000]\n",
      "loss: 0.432140  [44800/60000]\n",
      "loss: 0.371129  [51200/60000]\n",
      "loss: 0.292108  [57600/60000]\n",
      "Test Error: \n",
      " Accuracy: 85.4%, Avg loss: 0.402018 \n",
      "\n",
      "Epoch 4\n",
      "-------------------------------\n",
      "loss: 0.254849  [    0/60000]\n",
      "loss: 0.322407  [ 6400/60000]\n",
      "loss: 0.239560  [12800/60000]\n",
      "loss: 0.385722  [19200/60000]\n",
      "loss: 0.360248  [25600/60000]\n",
      "loss: 0.352309  [32000/60000]\n",
      "loss: 0.239586  [38400/60000]\n",
      "loss: 0.364265  [44800/60000]\n",
      "loss: 0.325746  [51200/60000]\n",
      "loss: 0.381703  [57600/60000]\n",
      "Test Error: \n",
      " Accuracy: 85.6%, Avg loss: 0.397389 \n",
      "\n",
      "Epoch 5\n",
      "-------------------------------\n",
      "loss: 0.301649  [    0/60000]\n",
      "loss: 0.380924  [ 6400/60000]\n",
      "loss: 0.231207  [12800/60000]\n",
      "loss: 0.308116  [19200/60000]\n",
      "loss: 0.349451  [25600/60000]\n",
      "loss: 0.326541  [32000/60000]\n",
      "loss: 0.246788  [38400/60000]\n",
      "loss: 0.312118  [44800/60000]\n",
      "loss: 0.319616  [51200/60000]\n",
      "loss: 0.475864  [57600/60000]\n",
      "Test Error: \n",
      " Accuracy: 85.9%, Avg loss: 0.392313 \n",
      "\n",
      "Epoch 6\n",
      "-------------------------------\n",
      "loss: 0.247812  [    0/60000]\n",
      "loss: 0.316243  [ 6400/60000]\n",
      "loss: 0.223156  [12800/60000]\n",
      "loss: 0.319620  [19200/60000]\n",
      "loss: 0.303786  [25600/60000]\n",
      "loss: 0.479752  [32000/60000]\n",
      "loss: 0.222060  [38400/60000]\n",
      "loss: 0.292745  [44800/60000]\n",
      "loss: 0.304820  [51200/60000]\n",
      "loss: 0.380828  [57600/60000]\n",
      "Test Error: \n",
      " Accuracy: 86.4%, Avg loss: 0.382788 \n",
      "\n",
      "Epoch 7\n",
      "-------------------------------\n",
      "loss: 0.209203  [    0/60000]\n",
      "loss: 0.258702  [ 6400/60000]\n",
      "loss: 0.217259  [12800/60000]\n",
      "loss: 0.313712  [19200/60000]\n",
      "loss: 0.326512  [25600/60000]\n",
      "loss: 0.345536  [32000/60000]\n",
      "loss: 0.244079  [38400/60000]\n",
      "loss: 0.323200  [44800/60000]\n",
      "loss: 0.239368  [51200/60000]\n",
      "loss: 0.350775  [57600/60000]\n",
      "Test Error: \n",
      " Accuracy: 86.9%, Avg loss: 0.385541 \n",
      "\n",
      "Epoch 8\n",
      "-------------------------------\n",
      "loss: 0.204639  [    0/60000]\n",
      "loss: 0.297025  [ 6400/60000]\n",
      "loss: 0.180229  [12800/60000]\n",
      "loss: 0.261449  [19200/60000]\n",
      "loss: 0.381523  [25600/60000]\n",
      "loss: 0.288839  [32000/60000]\n",
      "loss: 0.197656  [38400/60000]\n",
      "loss: 0.275153  [44800/60000]\n",
      "loss: 0.272709  [51200/60000]\n",
      "loss: 0.319327  [57600/60000]\n",
      "Test Error: \n",
      " Accuracy: 86.6%, Avg loss: 0.388985 \n",
      "\n",
      "Epoch 9\n",
      "-------------------------------\n",
      "loss: 0.213820  [    0/60000]\n",
      "loss: 0.269059  [ 6400/60000]\n",
      "loss: 0.216996  [12800/60000]\n",
      "loss: 0.316866  [19200/60000]\n",
      "loss: 0.331661  [25600/60000]\n",
      "loss: 0.253020  [32000/60000]\n",
      "loss: 0.280386  [38400/60000]\n",
      "loss: 0.323756  [44800/60000]\n",
      "loss: 0.323344  [51200/60000]\n",
      "loss: 0.356936  [57600/60000]\n",
      "Test Error: \n",
      " Accuracy: 87.1%, Avg loss: 0.384963 \n",
      "\n",
      "Epoch 10\n",
      "-------------------------------\n",
      "loss: 0.192932  [    0/60000]\n",
      "loss: 0.280533  [ 6400/60000]\n",
      "loss: 0.222993  [12800/60000]\n",
      "loss: 0.321931  [19200/60000]\n",
      "loss: 0.268181  [25600/60000]\n",
      "loss: 0.255524  [32000/60000]\n",
      "loss: 0.251816  [38400/60000]\n",
      "loss: 0.303564  [44800/60000]\n",
      "loss: 0.319315  [51200/60000]\n",
      "loss: 0.338617  [57600/60000]\n",
      "Test Error: \n",
      " Accuracy: 86.9%, Avg loss: 0.390300 \n",
      "\n",
      "Done!\n"
     ]
    }
   ],
   "source": [
    "### START YOUR CODE ###\n",
    "model2 = NeuralNetModel2(dropout=0.1) # Call NeuralNetModel2() with the dropout value you want to try\n",
    "optimizer = torch.optim.Adam(model2.parameters(), lr=learning_rate) # You may try Adam/SGD optimizer\n",
    "### END YOUR CODE ###\n",
    "\n",
    "epochs = 10\n",
    "for t in range(epochs):\n",
    "    print(f\"Epoch {t+1}\\n-------------------------------\")\n",
    "    ### START YOUR CODE ###\n",
    "    train_loop(train_loader, model2, loss_fn, optimizer, verbose=True) # Use verbose=False, if you want to see less information\n",
    "    test_loop(test_loader, model2, loss_fn)\n",
    "    ### END YOUR CODE ###\n",
    "\n",
    "print(\"Done!\")"
   ]
  },
  {
   "cell_type": "markdown",
   "metadata": {
    "pycharm": {
     "name": "#%% md\n"
    }
   },
   "source": [
    "**Expected output**\n",
    "\n",
    "In theory, you should see that the larger dropout rate you use, the lower test accuracy you will get, at the same epoch number.\n",
    "\n",
    "But the model trained with some dropout rate should generalize better to new data."
   ]
  }
 ],
 "metadata": {
  "kernelspec": {
   "display_name": "Python [conda env:base] *",
   "language": "python",
   "name": "conda-base-py"
  },
  "language_info": {
   "codemirror_mode": {
    "name": "ipython",
    "version": 3
   },
   "file_extension": ".py",
   "mimetype": "text/x-python",
   "name": "python",
   "nbconvert_exporter": "python",
   "pygments_lexer": "ipython3",
   "version": "3.11.5"
  }
 },
 "nbformat": 4,
 "nbformat_minor": 4
}
